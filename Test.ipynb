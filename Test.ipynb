{
 "metadata": {
  "name": "Test"
 },
 "nbformat": 3,
 "nbformat_minor": 0,
 "worksheets": [
  {
   "cells": [
    {
     "cell_type": "markdown",
     "metadata": {},
     "source": "This is how you'd do this."
    },
    {
     "cell_type": "code",
     "collapsed": false,
     "input": "!dir",
     "language": "python",
     "metadata": {},
     "outputs": [
      {
       "output_type": "stream",
       "stream": "stdout",
       "text": " Volume in drive C is OS\n Volume Serial Number is 08C7-6170\n\n Directory of C:\\Users\\jgawrilow\n\n01/14/2014  08:53 PM    <DIR>          .\n01/14/2014  08:53 PM    <DIR>          ..\n03/30/2012  08:20 PM    <DIR>          .eclipse\n07/02/2013  10:40 AM               133 .gitconfig\n09/26/2012  12:15 PM    <DIR>          .idlerc\n11/01/2012  03:30 PM    <DIR>          .ipython\n11/19/2012  03:46 PM    <DIR>          .matplotlib\n04/13/2012  10:14 AM    <DIR>          .nbi\n04/13/2012  10:16 AM    <DIR>          .netbeans\n03/28/2013  10:04 AM    <DIR>          .netbeans-derby\n04/09/2012  08:34 AM    <DIR>          .palantir\n12/19/2013  09:30 PM               113 .scala_history\n07/02/2013  11:03 AM    <DIR>          .ssh\n05/24/2012  08:16 AM    <DIR>          .tilemill\n01/24/2013  12:03 PM    <DIR>          change-detection\n10/02/2013  06:11 PM    <DIR>          Contacts\n07/02/2013  10:47 AM    <DIR>          debian_6_cdh4_baseline-20130627\n11/16/2013  12:03 PM    <DIR>          Desktop\n12/18/2013  10:24 PM    <DIR>          Documents\n01/14/2014  08:42 PM    <DIR>          Downloads\n10/02/2013  06:11 PM    <DIR>          Favorites\n10/02/2013  06:11 PM    <DIR>          Links\n10/02/2013  06:11 PM    <DIR>          Music\n01/14/2014  07:28 PM         1,177,442 PanGPA.log\n08/02/2013  05:06 PM            23,808 PanPortalCfg.dat\n10/02/2013  06:11 PM    <DIR>          Pictures\n12/21/2012  03:02 PM    <DIR>          ProgramFiles\n10/02/2013  06:11 PM    <DIR>          Saved Games\n11/08/2012  04:29 PM    <DIR>          scikit_learn_data\n10/02/2013  06:11 PM    <DIR>          Searches\n07/02/2013  12:32 PM             1,643 ServerCert.pan\n01/14/2014  08:53 PM               308 Test.ipynb\n05/24/2012  03:21 PM             3,104 tilemill.log\n10/02/2013  06:11 PM    <DIR>          Videos\n03/07/2013  11:38 AM    <DIR>          workspace\n04/25/2013  03:14 PM    <DIR>          xdata\n               7 File(s)      1,206,551 bytes\n              29 Dir(s)  58,262,605,824 bytes free\n"
      }
     ],
     "prompt_number": 1
    },
    {
     "cell_type": "code",
     "collapsed": false,
     "input": "a = 4",
     "language": "python",
     "metadata": {},
     "outputs": [],
     "prompt_number": 2
    },
    {
     "cell_type": "code",
     "collapsed": false,
     "input": "a += 5",
     "language": "python",
     "metadata": {},
     "outputs": [],
     "prompt_number": 3
    },
    {
     "cell_type": "code",
     "collapsed": false,
     "input": "print a",
     "language": "python",
     "metadata": {},
     "outputs": [
      {
       "output_type": "stream",
       "stream": "stdout",
       "text": "9\n"
      }
     ],
     "prompt_number": 4
    },
    {
     "cell_type": "code",
     "collapsed": false,
     "input": "",
     "language": "python",
     "metadata": {},
     "outputs": []
    }
   ],
   "metadata": {}
  }
 ]
}